{
 "cells": [
  {
   "cell_type": "markdown",
   "metadata": {},
   "source": [
    "# 1. Install Dependencies"
   ]
  },
  {
   "cell_type": "code",
   "execution_count": 36,
   "metadata": {},
   "outputs": [
    {
     "name": "stdout",
     "output_type": "stream",
     "text": [
      "Requirement already satisfied: torch in c:\\users\\patryk\\.conda\\envs\\translation_env\\lib\\site-packages (1.10.0)\n",
      "Requirement already satisfied: typing-extensions in c:\\users\\patryk\\.conda\\envs\\translation_env\\lib\\site-packages (from torch) (4.0.1)\n"
     ]
    }
   ],
   "source": [
    "!pip install torch"
   ]
  },
  {
   "cell_type": "code",
   "execution_count": 37,
   "metadata": {},
   "outputs": [
    {
     "name": "stdout",
     "output_type": "stream",
     "text": [
      "Requirement already satisfied: transformers in c:\\users\\patryk\\.conda\\envs\\translation_env\\lib\\site-packages (4.12.5)\n",
      "Requirement already satisfied: ipywidgets in c:\\users\\patryk\\.conda\\envs\\translation_env\\lib\\site-packages (7.6.5)\n",
      "Requirement already satisfied: gradio in c:\\users\\patryk\\.conda\\envs\\translation_env\\lib\\site-packages (2.4.6)\n",
      "Requirement already satisfied: huggingface-hub<1.0,>=0.1.0 in c:\\users\\patryk\\.conda\\envs\\translation_env\\lib\\site-packages (from transformers) (0.1.2)\n",
      "Requirement already satisfied: numpy>=1.17 in c:\\users\\patryk\\.conda\\envs\\translation_env\\lib\\site-packages (from transformers) (1.21.4)\n",
      "Requirement already satisfied: tokenizers<0.11,>=0.10.1 in c:\\users\\patryk\\.conda\\envs\\translation_env\\lib\\site-packages (from transformers) (0.10.3)\n",
      "Requirement already satisfied: filelock in c:\\users\\patryk\\.conda\\envs\\translation_env\\lib\\site-packages (from transformers) (3.4.0)\n",
      "Requirement already satisfied: packaging>=20.0 in c:\\users\\patryk\\.conda\\envs\\translation_env\\lib\\site-packages (from transformers) (21.3)\n",
      "Requirement already satisfied: tqdm>=4.27 in c:\\users\\patryk\\.conda\\envs\\translation_env\\lib\\site-packages (from transformers) (4.62.3)\n",
      "Requirement already satisfied: regex!=2019.12.17 in c:\\users\\patryk\\.conda\\envs\\translation_env\\lib\\site-packages (from transformers) (2021.11.10)\n",
      "Requirement already satisfied: requests in c:\\users\\patryk\\.conda\\envs\\translation_env\\lib\\site-packages (from transformers) (2.26.0)\n",
      "Requirement already satisfied: pyyaml>=5.1 in c:\\users\\patryk\\.conda\\envs\\translation_env\\lib\\site-packages (from transformers) (6.0)\n",
      "Requirement already satisfied: sacremoses in c:\\users\\patryk\\.conda\\envs\\translation_env\\lib\\site-packages (from transformers) (0.0.46)\n",
      "Requirement already satisfied: traitlets>=4.3.1 in c:\\users\\patryk\\appdata\\roaming\\python\\python39\\site-packages (from ipywidgets) (5.1.0)\n",
      "Requirement already satisfied: widgetsnbextension~=3.5.0 in c:\\users\\patryk\\.conda\\envs\\translation_env\\lib\\site-packages (from ipywidgets) (3.5.2)\n",
      "Requirement already satisfied: nbformat>=4.2.0 in c:\\users\\patryk\\.conda\\envs\\translation_env\\lib\\site-packages (from ipywidgets) (5.1.3)\n",
      "Requirement already satisfied: jupyterlab-widgets>=1.0.0 in c:\\users\\patryk\\.conda\\envs\\translation_env\\lib\\site-packages (from ipywidgets) (1.0.2)\n",
      "Requirement already satisfied: ipython>=4.0.0 in c:\\users\\patryk\\appdata\\roaming\\python\\python39\\site-packages (from ipywidgets) (7.28.0)\n",
      "Requirement already satisfied: ipykernel>=4.5.1 in c:\\users\\patryk\\appdata\\roaming\\python\\python39\\site-packages (from ipywidgets) (6.4.1)\n",
      "Requirement already satisfied: ipython-genutils~=0.2.0 in c:\\users\\patryk\\appdata\\roaming\\python\\python39\\site-packages (from ipywidgets) (0.2.0)\n",
      "Requirement already satisfied: Flask-Cors>=3.0.8 in c:\\users\\patryk\\.conda\\envs\\translation_env\\lib\\site-packages (from gradio) (3.0.10)\n",
      "Requirement already satisfied: paramiko in c:\\users\\patryk\\.conda\\envs\\translation_env\\lib\\site-packages (from gradio) (2.8.1)\n",
      "Requirement already satisfied: pydub in c:\\users\\patryk\\.conda\\envs\\translation_env\\lib\\site-packages (from gradio) (0.25.1)\n",
      "Requirement already satisfied: analytics-python in c:\\users\\patryk\\.conda\\envs\\translation_env\\lib\\site-packages (from gradio) (1.4.0)\n",
      "Requirement already satisfied: markdown2 in c:\\users\\patryk\\.conda\\envs\\translation_env\\lib\\site-packages (from gradio) (2.4.1)\n",
      "Requirement already satisfied: Flask>=1.1.1 in c:\\users\\patryk\\.conda\\envs\\translation_env\\lib\\site-packages (from gradio) (2.0.2)\n",
      "Requirement already satisfied: flask-cachebuster in c:\\users\\patryk\\.conda\\envs\\translation_env\\lib\\site-packages (from gradio) (1.0.0)\n",
      "Requirement already satisfied: pillow in c:\\users\\patryk\\.conda\\envs\\translation_env\\lib\\site-packages (from gradio) (8.4.0)\n",
      "Requirement already satisfied: matplotlib in c:\\users\\patryk\\.conda\\envs\\translation_env\\lib\\site-packages (from gradio) (3.5.0)\n",
      "Requirement already satisfied: pycryptodome in c:\\users\\patryk\\.conda\\envs\\translation_env\\lib\\site-packages (from gradio) (3.11.0)\n",
      "Requirement already satisfied: ffmpy in c:\\users\\patryk\\.conda\\envs\\translation_env\\lib\\site-packages (from gradio) (0.3.0)\n",
      "Requirement already satisfied: pandas in c:\\users\\patryk\\.conda\\envs\\translation_env\\lib\\site-packages (from gradio) (1.3.4)\n",
      "Requirement already satisfied: Flask-Login in c:\\users\\patryk\\.conda\\envs\\translation_env\\lib\\site-packages (from gradio) (0.5.0)\n",
      "Requirement already satisfied: Jinja2>=3.0 in c:\\users\\patryk\\.conda\\envs\\translation_env\\lib\\site-packages (from Flask>=1.1.1->gradio) (3.0.3)\n",
      "Requirement already satisfied: click>=7.1.2 in c:\\users\\patryk\\.conda\\envs\\translation_env\\lib\\site-packages (from Flask>=1.1.1->gradio) (8.0.3)\n",
      "Requirement already satisfied: itsdangerous>=2.0 in c:\\users\\patryk\\.conda\\envs\\translation_env\\lib\\site-packages (from Flask>=1.1.1->gradio) (2.0.1)\n",
      "Requirement already satisfied: Werkzeug>=2.0 in c:\\users\\patryk\\.conda\\envs\\translation_env\\lib\\site-packages (from Flask>=1.1.1->gradio) (2.0.2)\n",
      "Requirement already satisfied: colorama in c:\\users\\patryk\\appdata\\roaming\\python\\python39\\site-packages (from click>=7.1.2->Flask>=1.1.1->gradio) (0.4.4)\n",
      "Requirement already satisfied: Six in c:\\users\\patryk\\.conda\\envs\\translation_env\\lib\\site-packages (from Flask-Cors>=3.0.8->gradio) (1.16.0)\n",
      "Requirement already satisfied: typing-extensions>=3.7.4.3 in c:\\users\\patryk\\.conda\\envs\\translation_env\\lib\\site-packages (from huggingface-hub<1.0,>=0.1.0->transformers) (4.0.1)\n",
      "Requirement already satisfied: matplotlib-inline<0.2.0,>=0.1.0 in c:\\users\\patryk\\appdata\\roaming\\python\\python39\\site-packages (from ipykernel>=4.5.1->ipywidgets) (0.1.3)\n",
      "Requirement already satisfied: debugpy<2.0,>=1.0.0 in c:\\users\\patryk\\appdata\\roaming\\python\\python39\\site-packages (from ipykernel>=4.5.1->ipywidgets) (1.5.0)\n",
      "Requirement already satisfied: jupyter-client<8.0 in c:\\users\\patryk\\appdata\\roaming\\python\\python39\\site-packages (from ipykernel>=4.5.1->ipywidgets) (7.0.6)\n",
      "Requirement already satisfied: tornado<7.0,>=4.2 in c:\\users\\patryk\\appdata\\roaming\\python\\python39\\site-packages (from ipykernel>=4.5.1->ipywidgets) (6.1)\n",
      "Requirement already satisfied: decorator in c:\\users\\patryk\\appdata\\roaming\\python\\python39\\site-packages (from ipython>=4.0.0->ipywidgets) (5.1.0)\n",
      "Requirement already satisfied: pygments in c:\\users\\patryk\\appdata\\roaming\\python\\python39\\site-packages (from ipython>=4.0.0->ipywidgets) (2.10.0)\n",
      "Requirement already satisfied: backcall in c:\\users\\patryk\\appdata\\roaming\\python\\python39\\site-packages (from ipython>=4.0.0->ipywidgets) (0.2.0)\n",
      "Requirement already satisfied: setuptools>=18.5 in c:\\users\\patryk\\.conda\\envs\\translation_env\\lib\\site-packages (from ipython>=4.0.0->ipywidgets) (58.0.4)\n",
      "Requirement already satisfied: pickleshare in c:\\users\\patryk\\appdata\\roaming\\python\\python39\\site-packages (from ipython>=4.0.0->ipywidgets) (0.7.5)\n",
      "Requirement already satisfied: jedi>=0.16 in c:\\users\\patryk\\appdata\\roaming\\python\\python39\\site-packages (from ipython>=4.0.0->ipywidgets) (0.18.0)\n",
      "Requirement already satisfied: prompt-toolkit!=3.0.0,!=3.0.1,<3.1.0,>=2.0.0 in c:\\users\\patryk\\appdata\\roaming\\python\\python39\\site-packages (from ipython>=4.0.0->ipywidgets) (3.0.20)\n",
      "Requirement already satisfied: parso<0.9.0,>=0.8.0 in c:\\users\\patryk\\appdata\\roaming\\python\\python39\\site-packages (from jedi>=0.16->ipython>=4.0.0->ipywidgets) (0.8.2)\n",
      "Requirement already satisfied: MarkupSafe>=2.0 in c:\\users\\patryk\\.conda\\envs\\translation_env\\lib\\site-packages (from Jinja2>=3.0->Flask>=1.1.1->gradio) (2.0.1)\n",
      "Requirement already satisfied: jupyter-core>=4.6.0 in c:\\users\\patryk\\appdata\\roaming\\python\\python39\\site-packages (from jupyter-client<8.0->ipykernel>=4.5.1->ipywidgets) (4.8.1)\n",
      "Requirement already satisfied: pyzmq>=13 in c:\\users\\patryk\\appdata\\roaming\\python\\python39\\site-packages (from jupyter-client<8.0->ipykernel>=4.5.1->ipywidgets) (22.3.0)\n",
      "Requirement already satisfied: python-dateutil>=2.1 in c:\\users\\patryk\\.conda\\envs\\translation_env\\lib\\site-packages (from jupyter-client<8.0->ipykernel>=4.5.1->ipywidgets) (2.8.2)\n",
      "Requirement already satisfied: entrypoints in c:\\users\\patryk\\appdata\\roaming\\python\\python39\\site-packages (from jupyter-client<8.0->ipykernel>=4.5.1->ipywidgets) (0.3)\n",
      "Requirement already satisfied: nest-asyncio>=1.5 in c:\\users\\patryk\\appdata\\roaming\\python\\python39\\site-packages (from jupyter-client<8.0->ipykernel>=4.5.1->ipywidgets) (1.5.1)\n",
      "Requirement already satisfied: pywin32>=1.0 in c:\\users\\patryk\\appdata\\roaming\\python\\python39\\site-packages (from jupyter-core>=4.6.0->jupyter-client<8.0->ipykernel>=4.5.1->ipywidgets) (301)\n",
      "Requirement already satisfied: jsonschema!=2.5.0,>=2.4 in c:\\users\\patryk\\.conda\\envs\\translation_env\\lib\\site-packages (from nbformat>=4.2.0->ipywidgets) (4.2.1)\n",
      "Requirement already satisfied: pyrsistent!=0.17.0,!=0.17.1,!=0.17.2,>=0.14.0 in c:\\users\\patryk\\.conda\\envs\\translation_env\\lib\\site-packages (from jsonschema!=2.5.0,>=2.4->nbformat>=4.2.0->ipywidgets) (0.18.0)\n",
      "Requirement already satisfied: attrs>=17.4.0 in c:\\users\\patryk\\.conda\\envs\\translation_env\\lib\\site-packages (from jsonschema!=2.5.0,>=2.4->nbformat>=4.2.0->ipywidgets) (21.2.0)\n",
      "Requirement already satisfied: pyparsing!=3.0.5,>=2.0.2 in c:\\users\\patryk\\.conda\\envs\\translation_env\\lib\\site-packages (from packaging>=20.0->transformers) (3.0.6)\n",
      "Requirement already satisfied: wcwidth in c:\\users\\patryk\\appdata\\roaming\\python\\python39\\site-packages (from prompt-toolkit!=3.0.0,!=3.0.1,<3.1.0,>=2.0.0->ipython>=4.0.0->ipywidgets) (0.2.5)\n",
      "Requirement already satisfied: notebook>=4.4.1 in c:\\users\\patryk\\.conda\\envs\\translation_env\\lib\\site-packages (from widgetsnbextension~=3.5.0->ipywidgets) (6.4.6)\n",
      "Requirement already satisfied: argon2-cffi in c:\\users\\patryk\\.conda\\envs\\translation_env\\lib\\site-packages (from notebook>=4.4.1->widgetsnbextension~=3.5.0->ipywidgets) (21.1.0)\n",
      "Requirement already satisfied: Send2Trash>=1.8.0 in c:\\users\\patryk\\.conda\\envs\\translation_env\\lib\\site-packages (from notebook>=4.4.1->widgetsnbextension~=3.5.0->ipywidgets) (1.8.0)\n",
      "Requirement already satisfied: prometheus-client in c:\\users\\patryk\\.conda\\envs\\translation_env\\lib\\site-packages (from notebook>=4.4.1->widgetsnbextension~=3.5.0->ipywidgets) (0.12.0)\n",
      "Requirement already satisfied: nbconvert in c:\\users\\patryk\\.conda\\envs\\translation_env\\lib\\site-packages (from notebook>=4.4.1->widgetsnbextension~=3.5.0->ipywidgets) (6.3.0)\n",
      "Requirement already satisfied: terminado>=0.8.3 in c:\\users\\patryk\\.conda\\envs\\translation_env\\lib\\site-packages (from notebook>=4.4.1->widgetsnbextension~=3.5.0->ipywidgets) (0.12.1)\n",
      "Requirement already satisfied: pywinpty>=1.1.0 in c:\\users\\patryk\\.conda\\envs\\translation_env\\lib\\site-packages (from terminado>=0.8.3->notebook>=4.4.1->widgetsnbextension~=3.5.0->ipywidgets) (1.1.6)\n",
      "Requirement already satisfied: monotonic>=1.5 in c:\\users\\patryk\\.conda\\envs\\translation_env\\lib\\site-packages (from analytics-python->gradio) (1.6)\n",
      "Requirement already satisfied: backoff==1.10.0 in c:\\users\\patryk\\.conda\\envs\\translation_env\\lib\\site-packages (from analytics-python->gradio) (1.10.0)\n",
      "Requirement already satisfied: idna<4,>=2.5 in c:\\users\\patryk\\.conda\\envs\\translation_env\\lib\\site-packages (from requests->transformers) (3.3)\n",
      "Requirement already satisfied: charset-normalizer~=2.0.0 in c:\\users\\patryk\\.conda\\envs\\translation_env\\lib\\site-packages (from requests->transformers) (2.0.8)\n",
      "Requirement already satisfied: certifi>=2017.4.17 in c:\\users\\patryk\\.conda\\envs\\translation_env\\lib\\site-packages (from requests->transformers) (2021.10.8)\n",
      "Requirement already satisfied: urllib3<1.27,>=1.21.1 in c:\\users\\patryk\\.conda\\envs\\translation_env\\lib\\site-packages (from requests->transformers) (1.26.7)\n",
      "Requirement already satisfied: cffi>=1.0.0 in c:\\users\\patryk\\.conda\\envs\\translation_env\\lib\\site-packages (from argon2-cffi->notebook>=4.4.1->widgetsnbextension~=3.5.0->ipywidgets) (1.15.0)\n",
      "Requirement already satisfied: pycparser in c:\\users\\patryk\\.conda\\envs\\translation_env\\lib\\site-packages (from cffi>=1.0.0->argon2-cffi->notebook>=4.4.1->widgetsnbextension~=3.5.0->ipywidgets) (2.21)\n",
      "Requirement already satisfied: setuptools-scm>=4 in c:\\users\\patryk\\.conda\\envs\\translation_env\\lib\\site-packages (from matplotlib->gradio) (6.3.2)\n",
      "Requirement already satisfied: kiwisolver>=1.0.1 in c:\\users\\patryk\\.conda\\envs\\translation_env\\lib\\site-packages (from matplotlib->gradio) (1.3.2)\n",
      "Requirement already satisfied: fonttools>=4.22.0 in c:\\users\\patryk\\.conda\\envs\\translation_env\\lib\\site-packages (from matplotlib->gradio) (4.28.2)\n",
      "Requirement already satisfied: cycler>=0.10 in c:\\users\\patryk\\.conda\\envs\\translation_env\\lib\\site-packages (from matplotlib->gradio) (0.11.0)\n",
      "Requirement already satisfied: tomli>=1.0.0 in c:\\users\\patryk\\.conda\\envs\\translation_env\\lib\\site-packages (from setuptools-scm>=4->matplotlib->gradio) (1.2.2)\n",
      "Requirement already satisfied: jupyterlab-pygments in c:\\users\\patryk\\.conda\\envs\\translation_env\\lib\\site-packages (from nbconvert->notebook>=4.4.1->widgetsnbextension~=3.5.0->ipywidgets) (0.1.2)\n",
      "Requirement already satisfied: bleach in c:\\users\\patryk\\.conda\\envs\\translation_env\\lib\\site-packages (from nbconvert->notebook>=4.4.1->widgetsnbextension~=3.5.0->ipywidgets) (4.1.0)\n",
      "Requirement already satisfied: testpath in c:\\users\\patryk\\.conda\\envs\\translation_env\\lib\\site-packages (from nbconvert->notebook>=4.4.1->widgetsnbextension~=3.5.0->ipywidgets) (0.5.0)\n",
      "Requirement already satisfied: nbclient<0.6.0,>=0.5.0 in c:\\users\\patryk\\.conda\\envs\\translation_env\\lib\\site-packages (from nbconvert->notebook>=4.4.1->widgetsnbextension~=3.5.0->ipywidgets) (0.5.9)\n",
      "Requirement already satisfied: defusedxml in c:\\users\\patryk\\.conda\\envs\\translation_env\\lib\\site-packages (from nbconvert->notebook>=4.4.1->widgetsnbextension~=3.5.0->ipywidgets) (0.7.1)\n",
      "Requirement already satisfied: mistune<2,>=0.8.1 in c:\\users\\patryk\\.conda\\envs\\translation_env\\lib\\site-packages (from nbconvert->notebook>=4.4.1->widgetsnbextension~=3.5.0->ipywidgets) (0.8.4)\n",
      "Requirement already satisfied: pandocfilters>=1.4.1 in c:\\users\\patryk\\.conda\\envs\\translation_env\\lib\\site-packages (from nbconvert->notebook>=4.4.1->widgetsnbextension~=3.5.0->ipywidgets) (1.5.0)\n",
      "Requirement already satisfied: webencodings in c:\\users\\patryk\\.conda\\envs\\translation_env\\lib\\site-packages (from bleach->nbconvert->notebook>=4.4.1->widgetsnbextension~=3.5.0->ipywidgets) (0.5.1)\n",
      "Requirement already satisfied: pytz>=2017.3 in c:\\users\\patryk\\.conda\\envs\\translation_env\\lib\\site-packages (from pandas->gradio) (2021.3)\n",
      "Requirement already satisfied: pynacl>=1.0.1 in c:\\users\\patryk\\.conda\\envs\\translation_env\\lib\\site-packages (from paramiko->gradio) (1.4.0)\n",
      "Requirement already satisfied: cryptography>=2.5 in c:\\users\\patryk\\.conda\\envs\\translation_env\\lib\\site-packages (from paramiko->gradio) (36.0.0)\n",
      "Requirement already satisfied: bcrypt>=3.1.3 in c:\\users\\patryk\\.conda\\envs\\translation_env\\lib\\site-packages (from paramiko->gradio) (3.2.0)\n",
      "Requirement already satisfied: joblib in c:\\users\\patryk\\.conda\\envs\\translation_env\\lib\\site-packages (from sacremoses->transformers) (1.1.0)\n"
     ]
    }
   ],
   "source": [
    "!pip install transformers ipywidgets gradio --upgrade"
   ]
  },
  {
   "cell_type": "code",
   "execution_count": 38,
   "metadata": {},
   "outputs": [
    {
     "name": "stdout",
     "output_type": "stream",
     "text": [
      "Requirement already satisfied: sentencepiece in c:\\users\\patryk\\.conda\\envs\\translation_env\\lib\\site-packages (0.1.96)\n"
     ]
    }
   ],
   "source": [
    "!pip install sentencepiece"
   ]
  },
  {
   "cell_type": "code",
   "execution_count": 39,
   "metadata": {},
   "outputs": [],
   "source": [
    "import gradio as gr                 # UI Library\n",
    "from transformers import pipeline   # Transformers pipeline\n",
    "from transformers import M2M100ForConditionalGeneration, M2M100Tokenizer"
   ]
  },
  {
   "cell_type": "markdown",
   "metadata": {},
   "source": [
    "# 2. Load Up Pipeline"
   ]
  },
  {
   "cell_type": "code",
   "execution_count": 40,
   "metadata": {},
   "outputs": [],
   "source": [
    "model = M2M100ForConditionalGeneration.from_pretrained(\"facebook/m2m100_418M\")\n",
    "tokenizer = M2M100Tokenizer.from_pretrained(\"facebook/m2m100_418M\")"
   ]
  },
  {
   "cell_type": "code",
   "execution_count": 41,
   "metadata": {},
   "outputs": [
    {
     "name": "stdout",
     "output_type": "stream",
     "text": [
      "Poland is the best\n"
     ]
    }
   ],
   "source": [
    "tokenizer.src_lang = \"pl\"\n",
    "encoded_hi = tokenizer(\"Polska jest najlepsza\", return_tensors=\"pt\")\n",
    "generated_tokens = model.generate(**encoded_hi, forced_bos_token_id=tokenizer.get_lang_id(\"en\"))\n",
    "print(tokenizer.batch_decode(generated_tokens, skip_special_tokens=True)[0])"
   ]
  },
  {
   "cell_type": "markdown",
   "metadata": {},
   "source": [
    "# 3. Create Gradio Function and Interface"
   ]
  },
  {
   "cell_type": "code",
   "execution_count": 58,
   "metadata": {},
   "outputs": [
    {
     "name": "stdout",
     "output_type": "stream",
     "text": [
      "['English', 'German', 'French', 'Spanish', 'Polish', 'Italian', 'Portugal', 'Russian', 'Chinese']\n"
     ]
    }
   ],
   "source": [
    "# If u want to add language, just enter 'language_name': 'ISO 639-1 Code' pair\n",
    "lang_dict = {'English': 'en', 'German': 'de', 'French': 'fr', 'Spanish': 'es', 'Polish': 'pl', 'Italian': 'it', 'Portugal': 'pt', 'Russian': 'ru', 'Chinese': 'zh'}"
   ]
  },
  {
   "cell_type": "code",
   "execution_count": 80,
   "metadata": {},
   "outputs": [],
   "source": [
    "def translate_transformers(from_text, choose_source_lang, choose_output_lang):\n",
    "    for item, value in lang_dict.items():\n",
    "        if choose_source_lang == item:\n",
    "            source_lang = value\n",
    "        if choose_output_lang == item:\n",
    "            output_lang = value\n",
    "\n",
    "    tokenizer.src_lang = source_lang\n",
    "    encoded_hi = tokenizer(from_text, return_tensors=\"pt\")\n",
    "    generated_tokens = model.generate(**encoded_hi, forced_bos_token_id=tokenizer.get_lang_id(output_lang))\n",
    "    \n",
    "    return tokenizer.batch_decode(generated_tokens, skip_special_tokens=True)[0]\n",
    "        "
   ]
  },
  {
   "cell_type": "code",
   "execution_count": 81,
   "metadata": {},
   "outputs": [],
   "source": [
    "interface = gr.Interface(fn=translate_transformers,\n",
    "    inputs = [gr.inputs.Textbox(lines=2, placeholder='Text to translate'), gr.inputs.Radio([item for item in lang_dict]), \n",
    "              gr.inputs.Radio([item for item in lang_dict])],\n",
    "    outputs='text',\n",
    "    title=\"Translator\",\n",
    "    description=\"Choose translation direction. Enjoy!\"\n",
    ")"
   ]
  },
  {
   "cell_type": "code",
   "execution_count": 82,
   "metadata": {},
   "outputs": [
    {
     "name": "stdout",
     "output_type": "stream",
     "text": [
      "Running on local URL:  http://127.0.0.1:7879/\n",
      "\n",
      "To create a public link, set `share=True` in `launch()`.\n"
     ]
    },
    {
     "data": {
      "text/html": [
       "\n",
       "        <iframe\n",
       "            width=\"900\"\n",
       "            height=\"500\"\n",
       "            src=\"http://127.0.0.1:7879/\"\n",
       "            frameborder=\"0\"\n",
       "            allowfullscreen\n",
       "            \n",
       "        ></iframe>\n",
       "        "
      ],
      "text/plain": [
       "<IPython.lib.display.IFrame at 0x23dfe30d070>"
      ]
     },
     "metadata": {},
     "output_type": "display_data"
    },
    {
     "data": {
      "text/plain": [
       "(<Flask 'gradio.networking'>, 'http://127.0.0.1:7879/', None)"
      ]
     },
     "execution_count": 82,
     "metadata": {},
     "output_type": "execute_result"
    }
   ],
   "source": [
    "interface.launch()\n",
    "# interface.launch(share=True, auth=('patrinhoo', 'Patryk1996.'))"
   ]
  },
  {
   "cell_type": "markdown",
   "metadata": {},
   "source": []
  }
 ],
 "metadata": {
  "interpreter": {
   "hash": "18702a2ffa368e9f85cac4d05fe36c7d17e63b2938facd955dfb1de8d1656cdd"
  },
  "kernelspec": {
   "display_name": "Python 3.9.7 64-bit ('translation_env': conda)",
   "language": "python",
   "name": "python3"
  },
  "language_info": {
   "codemirror_mode": {
    "name": "ipython",
    "version": 3
   },
   "file_extension": ".py",
   "mimetype": "text/x-python",
   "name": "python",
   "nbconvert_exporter": "python",
   "pygments_lexer": "ipython3",
   "version": "3.9.7"
  },
  "orig_nbformat": 4
 },
 "nbformat": 4,
 "nbformat_minor": 2
}
